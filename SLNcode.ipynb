{
 "cells": [
  {
   "cell_type": "markdown",
   "id": "2378b349",
   "metadata": {},
   "source": [
    "## Rhynie Chert Metanetwork --> SLNs ##\n",
    "### Adapted from \"Analytical approaches to networks, trophic structure, and ancient food webs\" NAPC 2024 food webs workshop ###\n",
    "\n",
    "The following metanetwork consists of two files. The first lists and names the trophic guilds, along with the taxon richness of each guild and an assumption of its trophic habit (e.g. \"producer\"). Note that all guilds have been labelled as type \"producer\", which is obviously an error. This is intentional and will be corrected in a later section. The second file is the metanetwork adjacency matrix, which is a binary $\\vert U\\vert\\times \\vert U\\vert$ matrix, where $\\vert U\\vert$ is the total number of guilds in the metanetwork, $U$. The entries in this matrix are 0 or 1. If guild $G_i$ contains species hypothesized to prey on some or all those in guild $G_j$, then the $ij^{th}$ entry is 1, and zero otherwise."
   ]
  },
  {
   "cell_type": "code",
   "execution_count": 90,
   "id": "743f98cf",
   "metadata": {},
   "outputs": [],
   "source": [
    "# load necessary Julia libraries\n",
    "# these must be installed via the Julia repl or terminal environment. Do so with the following commands\n",
    "# using Pkg\n",
    "# Pkg.add(\"CSV\")\n",
    "using CSV,DelimitedFiles,DataFrames,Random,Distributions,LinearAlgebra,PoissonRandom,Graphs,FilePathsBase"
   ]
  },
  {
   "cell_type": "code",
   "execution_count": 91,
   "id": "0a5afc1f",
   "metadata": {},
   "outputs": [
    {
     "data": {
      "text/plain": [
       "r_no_prey (generic function with 1 method)"
      ]
     },
     "metadata": {},
     "output_type": "display_data"
    }
   ],
   "source": [
    "# also load these library functions written for the SLN family of code\n",
    "include(\"./SLN_maker.jl\")\n",
    "include(\"./r_no_prey.jl\")"
   ]
  },
  {
   "cell_type": "code",
   "execution_count": 92,
   "id": "7ea96935",
   "metadata": {},
   "outputs": [
    {
     "data": {
      "text/plain": [
       "\"complete\""
      ]
     },
     "metadata": {},
     "output_type": "display_data"
    }
   ],
   "source": [
    "γ = 3\n",
    "\n",
    "n_reps = 1000\n",
    "label = \"lumped\" #can fill in with a number or string to label multiple runs\n",
    "analysis_type = \"complete\" #complete, terr, or aqu"
   ]
  },
  {
   "cell_type": "markdown",
   "id": "60ca18d4",
   "metadata": {},
   "source": [
    "### File input ###\n",
    "Read the metanetwork and adjacency matrix files and print the metanetwork as a simple file check."
   ]
  },
  {
   "cell_type": "code",
   "execution_count": 93,
   "id": "08b9e405",
   "metadata": {},
   "outputs": [
    {
     "name": "stdout",
     "output_type": "stream",
     "text": [
      "\u001b[1m20×8 DataFrame\u001b[0m\n",
      "\u001b[1m Row \u001b[0m│\u001b[1m guild_no \u001b[0m\u001b[1m guild_name                        \u001b[0m\u001b[1m major_taxa \u001b[0m\u001b[1m G     \u001b[0m\u001b[1m sp_tp    \u001b[0m\u001b[1m resource_guilds                  \u001b[0m\u001b[1m terr  \u001b[0m\u001b[1m aqu   \u001b[0m\n",
      "     │\u001b[90m Int64    \u001b[0m\u001b[90m String                            \u001b[0m\u001b[90m Missing    \u001b[0m\u001b[90m Int64 \u001b[0m\u001b[90m String15 \u001b[0m\u001b[90m String?                          \u001b[0m\u001b[90m Int64 \u001b[0m\u001b[90m Int64 \u001b[0m\n",
      "─────┼──────────────────────────────────────────────────────────────────────────────────────────────────────────────────────────\n",
      "   1 │        1  terrestrial detritus              \u001b[90m    missing \u001b[0m     1  producer \u001b[90m missing                          \u001b[0m     1      0\n",
      "   2 │        2  land plants                       \u001b[90m    missing \u001b[0m     8  producer \u001b[90m missing                          \u001b[0m     1      0\n",
      "   3 │        3  heterotrophic microbes            \u001b[90m    missing \u001b[0m     1  consumer  1,3                                   1      0\n",
      "   4 │        4  terrestrial fungi                 \u001b[90m    missing \u001b[0m     1  consumer  1,2,4                                 1      0\n",
      "   5 │        5  terrestrial microbivores          \u001b[90m    missing \u001b[0m     1  consumer  3,4,13                                1      0\n",
      "   6 │        6  terrestrial detritivores          \u001b[90m    missing \u001b[0m     2  consumer  1,3,4,13                              1      0\n",
      "   7 │        7  mites                             \u001b[90m    missing \u001b[0m     2  consumer  2,3,4,13,16                           1      0\n",
      "   8 │        8  small terrestrial arthropod pred… \u001b[90m    missing \u001b[0m     3  consumer  5,6,7,8,16                            1      0\n",
      "   9 │        9  large terrestrial arthropod pred… \u001b[90m    missing \u001b[0m     5  consumer  5,6,7,8,9                             1      0\n",
      "  10 │       10  aquatic detritus                  \u001b[90m    missing \u001b[0m     1  producer \u001b[90m missing                          \u001b[0m     0      1\n",
      "  11 │       11  aquatic heterotroph microbes      \u001b[90m    missing \u001b[0m     1  consumer  10,11                                 0      1\n",
      "  12 │       12  planktonic algae                  \u001b[90m    missing \u001b[0m     1  producer \u001b[90m missing                          \u001b[0m     0      1\n",
      "  13 │       13  benthic algae                     \u001b[90m    missing \u001b[0m     1  producer \u001b[90m missing                          \u001b[0m     1      1\n",
      "  14 │       14  macrophytic algae                 \u001b[90m    missing \u001b[0m     1  producer \u001b[90m missing                          \u001b[0m     0      1\n",
      "  15 │       15  aquatic fungi                     \u001b[90m    missing \u001b[0m     1  consumer  15,14,13,12,10                        0      1\n",
      "  16 │       16  nematodes                         \u001b[90m    missing \u001b[0m     1  consumer  14,13,4,3,2                           1      1\n",
      "  17 │       17  swimming filter feeders           \u001b[90m    missing \u001b[0m     2  consumer  12,11                                 0      1\n",
      "  18 │       18  swimming scrapers                 \u001b[90m    missing \u001b[0m     1  consumer  15,13,12,11,10                        0      1\n",
      "  19 │       19  arthropod omnivores               \u001b[90m    missing \u001b[0m     2  consumer  20,19,18,17,16,15,14,13,12,11,10      0      1\n",
      "  20 │       20  benthic predators                 \u001b[90m    missing \u001b[0m     1  consumer  19,18,16                              0      1"
     ]
    }
   ],
   "source": [
    "P = CSV.read(\"Rhynie_lumped_data/guilds_lumped.csv\",DataFrame)\n",
    "A = readdlm(\"Rhynie_lumped_data/guild_matrix_lumped.csv\", ',', Int8)\n",
    "print(P)"
   ]
  },
  {
   "cell_type": "markdown",
   "id": "ca391e23",
   "metadata": {},
   "source": [
    "Note that the first several guilds are \"producer\" guilds, including detritus.\n",
    "\n",
    "Also note that all the guilds are listed as trophic type \"producer\". We correct this in the following."
   ]
  },
  {
   "cell_type": "code",
   "execution_count": 94,
   "id": "0a74784e",
   "metadata": {},
   "outputs": [
    {
     "name": "stdout",
     "output_type": "stream",
     "text": [
      "\u001b[1m20×8 DataFrame\u001b[0m\n",
      "\u001b[1m Row \u001b[0m│\u001b[1m guild_no \u001b[0m\u001b[1m guild_name                        \u001b[0m\u001b[1m major_taxa \u001b[0m\u001b[1m G     \u001b[0m\u001b[1m sp_tp    \u001b[0m\u001b[1m resource_guilds                  \u001b[0m\u001b[1m terr  \u001b[0m\u001b[1m aqu   \u001b[0m\n",
      "     │\u001b[90m Int64    \u001b[0m\u001b[90m String                            \u001b[0m\u001b[90m Missing    \u001b[0m\u001b[90m Int64 \u001b[0m\u001b[90m String15 \u001b[0m\u001b[90m String?                          \u001b[0m\u001b[90m Int64 \u001b[0m\u001b[90m Int64 \u001b[0m\n",
      "─────┼──────────────────────────────────────────────────────────────────────────────────────────────────────────────────────────\n",
      "   1 │        1  terrestrial detritus              \u001b[90m    missing \u001b[0m     1  producer \u001b[90m missing                          \u001b[0m     1      0\n",
      "   2 │        2  land plants                       \u001b[90m    missing \u001b[0m     8  producer \u001b[90m missing                          \u001b[0m     1      0\n",
      "   3 │        3  heterotrophic microbes            \u001b[90m    missing \u001b[0m     1  consumer  1,3                                   1      0\n",
      "   4 │        4  terrestrial fungi                 \u001b[90m    missing \u001b[0m     1  consumer  1,2,4                                 1      0\n",
      "   5 │        5  terrestrial microbivores          \u001b[90m    missing \u001b[0m     1  consumer  3,4,13                                1      0\n",
      "   6 │        6  terrestrial detritivores          \u001b[90m    missing \u001b[0m     2  consumer  1,3,4,13                              1      0\n",
      "   7 │        7  mites                             \u001b[90m    missing \u001b[0m     2  consumer  2,3,4,13,16                           1      0\n",
      "   8 │        8  small terrestrial arthropod pred… \u001b[90m    missing \u001b[0m     3  consumer  5,6,7,8,16                            1      0\n",
      "   9 │        9  large terrestrial arthropod pred… \u001b[90m    missing \u001b[0m     5  consumer  5,6,7,8,9                             1      0\n",
      "  10 │       10  aquatic detritus                  \u001b[90m    missing \u001b[0m     1  producer \u001b[90m missing                          \u001b[0m     0      1\n",
      "  11 │       11  aquatic heterotroph microbes      \u001b[90m    missing \u001b[0m     1  consumer  10,11                                 0      1\n",
      "  12 │       12  planktonic algae                  \u001b[90m    missing \u001b[0m     1  producer \u001b[90m missing                          \u001b[0m     0      1\n",
      "  13 │       13  benthic algae                     \u001b[90m    missing \u001b[0m     1  producer \u001b[90m missing                          \u001b[0m     1      1\n",
      "  14 │       14  macrophytic algae                 \u001b[90m    missing \u001b[0m     1  producer \u001b[90m missing                          \u001b[0m     0      1\n",
      "  15 │       15  aquatic fungi                     \u001b[90m    missing \u001b[0m     1  consumer  15,14,13,12,10                        0      1\n",
      "  16 │       16  nematodes                         \u001b[90m    missing \u001b[0m     1  consumer  14,13,4,3,2                           1      1\n",
      "  17 │       17  swimming filter feeders           \u001b[90m    missing \u001b[0m     2  consumer  12,11                                 0      1\n",
      "  18 │       18  swimming scrapers                 \u001b[90m    missing \u001b[0m     1  consumer  15,13,12,11,10                        0      1\n",
      "  19 │       19  arthropod omnivores               \u001b[90m    missing \u001b[0m     2  consumer  20,19,18,17,16,15,14,13,12,11,10      0      1\n",
      "  20 │       20  benthic predators                 \u001b[90m    missing \u001b[0m     1  consumer  19,18,16                              0      1"
     ]
    }
   ],
   "source": [
    "# check trophic positions and modify if necessary\n",
    "# transpose A\n",
    "A_t = transpose(A)\n",
    "for i = 1:size(P,1)\n",
    "    vA = sum(A[i,:],dims=1)\n",
    "    vA_t = sum(A_t[i,:],dims=1)\n",
    "    if vA[1]==0\n",
    "        P[i,:sp_tp] = \"producer\"\n",
    "    end\n",
    "    if vA[1]!=0\n",
    "        if vA_t[1]!=0\n",
    "            P[i,:sp_tp] = \"consumer\"\n",
    "        end\n",
    "        if vA_t[1]==0\n",
    "            P[i,:sp_tp] = \"apex\"\n",
    "        end\n",
    "    end\n",
    "end\n",
    "print(P)"
   ]
  },
  {
   "cell_type": "markdown",
   "id": "949e999c",
   "metadata": {},
   "source": [
    "### Calculate summary stats and separate aquatic and terrestrial webs ###\n",
    "Create subsets of the main web separating aquatic and terrestrial components"
   ]
  },
  {
   "cell_type": "code",
   "execution_count": 95,
   "id": "c0b085c1",
   "metadata": {},
   "outputs": [
    {
     "name": "stdout",
     "output_type": "stream",
     "text": [
      "\n",
      "Selected complete web containing 20 guilds and 37 species.\n"
     ]
    }
   ],
   "source": [
    "# calculate metanetwork diversity\n",
    "# no. of guilds\n",
    "no_guilds = size(P,1)\n",
    "# calculate number of species\n",
    "S = sum(P[:,:G])\n",
    "no_species = S[1]\n",
    "\n",
    "# if terrestrial- or aquatic-only analysis, replace metrics with subsetted versions\n",
    "if analysis_type == \"terr_only\" || analysis_type == \"terr\"\n",
    "    guilds_terr = findall(==(1),P[:,7])\n",
    "    P = P[guilds_terr,:]\n",
    "    A = A[guilds_terr,guilds_terr]\n",
    "    no_guilds = size(P, 1)\n",
    "    S = sum(P[:,:G])\n",
    "    no_species = S[1]\n",
    "    println(\"\\nSelected terrestrial-only web containing $no_guilds guilds and $no_species species.\")\n",
    "elseif analysis_type == \"aqu_only\" || analysis_type == \"aqu\"\n",
    "    guilds_aqu = findall(==(1),P[:,8])\n",
    "    P = P[guilds_aqu,:]\n",
    "    A_t = A_t[guilds_aqu,guilds_aqu]\n",
    "    no_guilds = size(P, 1)\n",
    "    S = sum(P[:,:G])\n",
    "    no_species = S[1]\n",
    "    println(\"\\nSelected aquatic-only web containing $no_guilds guilds and $no_species species.\")\n",
    "else\n",
    "    println(\"\\nSelected complete web containing $no_guilds guilds and $no_species species.\")\n",
    "end"
   ]
  },
  {
   "cell_type": "markdown",
   "id": "e7429df1",
   "metadata": {},
   "source": [
    "## SLN construction ##\n",
    "\n",
    "The next series of cells estimate a series of SLNs (species-level networks or food webs) from the metanetwork. Some of the code consists of essential algorithmic steps, but the general procedure is as follows:\n",
    "1. Calculate the maximum number of potential prey species or nodes for each consumer. This is the sum richness of all the guilds that are linked as resources or prey, in the metanetwork, to a guild $G_i$. Designate this sum as $M_i = \\sum_j^{\\vert U\\vert}a_{ij}\\vert G_j\\vert$.\n",
    "2. Generate the specific number of prey species or resource nodes of a species in guild $G_i$. This depends on a stochastic draw from an in-degree distribution, which can be a hypothetical, model, or empirically determined distribution. Here we use a mixed exponential-power law distribution. Use of this distribution requires a parameter, $\\gamma$, describing the thickness of the distribution's tail. The stochastic draw is done using the function \"r_no_prey.jl\", but it is quite easy to substitute another function using Julia's Distributions package. See https://juliastats.org/Distributions.jl/stable/starting/\n",
    "3. When the number of prey, or in-degree of a species has been so determined, the actual prey species are then determined by assigning the number of links randomly to species within the prey guilds."
   ]
  },
  {
   "cell_type": "code",
   "execution_count": 96,
   "id": "d77c21a1",
   "metadata": {},
   "outputs": [
    {
     "name": "stdout",
     "output_type": "stream",
     "text": [
      "\u001b[1m20×10 DataFrame\u001b[0m\n",
      "\u001b[1m Row \u001b[0m│\u001b[1m guild_no \u001b[0m\u001b[1m guild_name                        \u001b[0m\u001b[1m major_taxa \u001b[0m\u001b[1m G     \u001b[0m\u001b[1m sp_tp    \u001b[0m\u001b[1m resource_guilds                  \u001b[0m\u001b[1m terr  \u001b[0m\u001b[1m aqu   \u001b[0m\u001b[1m no_prey \u001b[0m\u001b[1m no_preds \u001b[0m\n",
      "     │\u001b[90m Int64    \u001b[0m\u001b[90m String                            \u001b[0m\u001b[90m Missing    \u001b[0m\u001b[90m Int64 \u001b[0m\u001b[90m String15 \u001b[0m\u001b[90m String?                          \u001b[0m\u001b[90m Int64 \u001b[0m\u001b[90m Int64 \u001b[0m\u001b[90m Float64 \u001b[0m\u001b[90m Float64  \u001b[0m\n",
      "─────┼─────────────────────────────────────────────────────────────────────────────────────────────────────────────────────────────────────────────\n",
      "   1 │        1  terrestrial detritus              \u001b[90m    missing \u001b[0m     1  producer \u001b[90m missing                          \u001b[0m     1      0      0.0       4.0\n",
      "   2 │        2  land plants                       \u001b[90m    missing \u001b[0m     8  producer \u001b[90m missing                          \u001b[0m     1      0      0.0       4.0\n",
      "   3 │        3  heterotrophic microbes            \u001b[90m    missing \u001b[0m     1  consumer  1,3                                   1      0      2.0       7.0\n",
      "   4 │        4  terrestrial fungi                 \u001b[90m    missing \u001b[0m     1  consumer  1,2,4                                 1      0     10.0       7.0\n",
      "   5 │        5  terrestrial microbivores          \u001b[90m    missing \u001b[0m     1  consumer  3,4,13                                1      0      3.0       8.0\n",
      "   6 │        6  terrestrial detritivores          \u001b[90m    missing \u001b[0m     2  consumer  1,3,4,13                              1      0      4.0       8.0\n",
      "   7 │        7  mites                             \u001b[90m    missing \u001b[0m     2  consumer  2,3,4,13,16                           1      0     12.0       8.0\n",
      "   8 │        8  small terrestrial arthropod pred… \u001b[90m    missing \u001b[0m     3  consumer  5,6,7,8,16                            1      0      9.0       8.0\n",
      "   9 │        9  large terrestrial arthropod pred… \u001b[90m    missing \u001b[0m     5  consumer  5,6,7,8,9                             1      0     13.0       5.0\n",
      "  10 │       10  aquatic detritus                  \u001b[90m    missing \u001b[0m     1  producer \u001b[90m missing                          \u001b[0m     0      1      0.0       5.0\n",
      "  11 │       11  aquatic heterotroph microbes      \u001b[90m    missing \u001b[0m     1  consumer  10,11                                 0      1      2.0       6.0\n",
      "  12 │       12  planktonic algae                  \u001b[90m    missing \u001b[0m     1  producer \u001b[90m missing                          \u001b[0m     0      1      0.0       6.0\n",
      "  13 │       13  benthic algae                     \u001b[90m    missing \u001b[0m     1  producer \u001b[90m missing                          \u001b[0m     1      1      0.0      10.0\n",
      "  14 │       14  macrophytic algae                 \u001b[90m    missing \u001b[0m     1  producer \u001b[90m missing                          \u001b[0m     0      1      0.0       4.0\n",
      "  15 │       15  aquatic fungi                     \u001b[90m    missing \u001b[0m     1  consumer  15,14,13,12,10                        0      1      5.0       4.0\n",
      "  16 │       16  nematodes                         \u001b[90m    missing \u001b[0m     1  consumer  14,13,4,3,2                           1      1     12.0       8.0\n",
      "  17 │       17  swimming filter feeders           \u001b[90m    missing \u001b[0m     2  consumer  12,11                                 0      1      2.0       2.0\n",
      "  18 │       18  swimming scrapers                 \u001b[90m    missing \u001b[0m     1  consumer  15,13,12,11,10                        0      1      5.0       3.0\n",
      "  19 │       19  arthropod omnivores               \u001b[90m    missing \u001b[0m     2  consumer  20,19,18,17,16,15,14,13,12,11,10      0      1     13.0       3.0\n",
      "  20 │       20  benthic predators                 \u001b[90m    missing \u001b[0m     1  consumer  19,18,16                              0      1      4.0       2.0"
     ]
    }
   ],
   "source": [
    "# construct guild x species array\n",
    "meta_SLN = SLN_maker(A,P,no_guilds,no_species);\n",
    "\n",
    "# calculate no. of prey species per guild\n",
    "P[:,:no_prey] .= 0.0\n",
    "P[:,:no_preds] .= 0.0\n",
    "for i = 1:no_guilds\n",
    "\t  for j = 1:no_guilds\n",
    "\t      if A[i,j] == 1\n",
    "\t          P[i,:no_prey] = P[i,:no_prey] + P[j,:G]\n",
    "\t      end\n",
    "        if A[j,i] == 1\n",
    "\t          P[i,:no_preds] = P[i,:no_preds] + P[j,:G]\n",
    "\t      end\n",
    "\t  end\n",
    "end\n",
    "print(P)"
   ]
  },
  {
   "cell_type": "markdown",
   "id": "6e5ddfa8",
   "metadata": {},
   "source": [
    "set $\\gamma$, the power law parameter.\n",
    "\n",
    "Specify a number of replicate SLNs to generate."
   ]
  },
  {
   "cell_type": "code",
   "execution_count": null,
   "id": "e9607ee2",
   "metadata": {},
   "outputs": [],
   "source": [
    "# create directory to store analyses if it doesn't already exist\n",
    "dir_path = \"SLNs/Rhynie_$(label)\"\n",
    "mkpath(dir_path)\n",
    "\n",
    "## beginning of loop that generates chosen # of SLNs (based on n_reps) and outputs interaction matrices + species guild assignments\n",
    "for rep in 1:n_reps\n",
    "    # make empty dataframe for species data\n",
    "    species = DataFrame(sp_name = Int64[], guild = String[], guild_no = Int64[], guild_richness = Int64[], guild_no_prey = Int64[], guild_no_preds = Int64[], terr = Int64[], aqu = Int64[], sp_no_prey = Int64[], sp_no_preds = Int64[])\n",
    "\n",
    "    # push guild data\n",
    "    begin\n",
    "        tally1 = [1]\n",
    "        for i = 1:no_guilds\n",
    "            guild_richness = P[i,:G]\n",
    "            for j = 1:guild_richness\n",
    "                push!(species, [tally1[1], P[i,:guild_name], i, P[i,:G], P[i,:no_prey], P[i,:no_preds], P[i,:terr], P[i,:aqu],0,0])\n",
    "                tally1[1] = tally1[1] + 1\n",
    "            end\n",
    "        end\n",
    "    end\n",
    "        \n",
    "    # initial species no. of prey; uses in-degree distribution\n",
    "    for i = 1:size(species,1)\n",
    "        species[i,:sp_no_prey] = r_no_prey(species[i,:guild_no_prey],γ)\n",
    "    end\n",
    "        \n",
    "    # select species-specific prey and generate species A matrix\n",
    "    sp_A = zeros(Int64,no_species,no_species)\n",
    "    for i = 1:no_species\n",
    "        #vector of species prey indices\n",
    "        guild_prey = Int64[]\n",
    "        for j = 1:no_species\n",
    "            if meta_SLN[species[i,:guild_no],j] == 1\n",
    "                push!(guild_prey,j)\n",
    "            end\n",
    "        end\n",
    "        #randomize prey vector\n",
    "        shuffle!(guild_prey)\n",
    "        #pick species prey\n",
    "        for k = 1:species[i,:sp_no_prey]\n",
    "            sp_A[i,guild_prey[k]] = 1\n",
    "        end\n",
    "    end\n",
    "\n",
    "    #calculate no. preds, or out-degree\n",
    "    for i = 1:no_species\n",
    "        out_degree = 0\n",
    "        for j = 1:no_species\n",
    "            if sp_A[j,i] == 1\n",
    "                out_degree += 1\n",
    "            end\n",
    "        end\n",
    "        species[i,:sp_no_preds] = out_degree\n",
    "    end\n",
    "\n",
    "    writedlm(\"$(dir_path)/matrix_$rep.csv\", sp_A, ',')\n",
    "\n",
    "    #save species info (the only thing we need is the guild IDs, the other info could be recalculated from the adjacency matrix)\n",
    "    CSV.write(\"$(dir_path)/speciesinfo$rep.csv\", species)\n",
    "end\n"
   ]
  }
 ],
 "metadata": {
  "kernelspec": {
   "display_name": "Julia 1.11.5",
   "language": "julia",
   "name": "julia-1.11"
  },
  "language_info": {
   "file_extension": ".jl",
   "mimetype": "application/julia",
   "name": "julia",
   "version": "1.11.5"
  }
 },
 "nbformat": 4,
 "nbformat_minor": 5
}
